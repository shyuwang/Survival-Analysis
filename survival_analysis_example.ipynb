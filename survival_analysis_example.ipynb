{
 "cells": [
  {
   "cell_type": "code",
   "execution_count": 1,
   "metadata": {},
   "outputs": [],
   "source": [
    "#!pip install lifelines"
   ]
  },
  {
   "cell_type": "code",
   "execution_count": 2,
   "metadata": {},
   "outputs": [],
   "source": [
    "import lifelines\n",
    "import numpy as np\n",
    "import matplotlib.pyplot as plt"
   ]
  },
  {
   "cell_type": "markdown",
   "metadata": {},
   "source": [
    "# Example 1: Leukemia\n",
    "\n",
    "The Leukemia dataset comes from `lifelines` package. In this example, the goal is to compare two treatments."
   ]
  },
  {
   "cell_type": "markdown",
   "metadata": {},
   "source": [
    "## Data\n",
    "- `t`: time when the event happened or the case is censored\n",
    "- `status`: 1 if the patient deceased, 0 if not dead or censored"
   ]
  },
  {
   "cell_type": "code",
   "execution_count": 3,
   "metadata": {},
   "outputs": [
    {
     "data": {
      "text/html": [
       "<div>\n",
       "<style scoped>\n",
       "    .dataframe tbody tr th:only-of-type {\n",
       "        vertical-align: middle;\n",
       "    }\n",
       "\n",
       "    .dataframe tbody tr th {\n",
       "        vertical-align: top;\n",
       "    }\n",
       "\n",
       "    .dataframe thead th {\n",
       "        text-align: right;\n",
       "    }\n",
       "</style>\n",
       "<table border=\"1\" class=\"dataframe\">\n",
       "  <thead>\n",
       "    <tr style=\"text-align: right;\">\n",
       "      <th></th>\n",
       "      <th>t</th>\n",
       "      <th>status</th>\n",
       "      <th>sex</th>\n",
       "      <th>logWBC</th>\n",
       "      <th>Rx</th>\n",
       "    </tr>\n",
       "  </thead>\n",
       "  <tbody>\n",
       "    <tr>\n",
       "      <th>0</th>\n",
       "      <td>35</td>\n",
       "      <td>0</td>\n",
       "      <td>1</td>\n",
       "      <td>1.45</td>\n",
       "      <td>0</td>\n",
       "    </tr>\n",
       "    <tr>\n",
       "      <th>1</th>\n",
       "      <td>34</td>\n",
       "      <td>0</td>\n",
       "      <td>1</td>\n",
       "      <td>1.47</td>\n",
       "      <td>0</td>\n",
       "    </tr>\n",
       "    <tr>\n",
       "      <th>2</th>\n",
       "      <td>32</td>\n",
       "      <td>0</td>\n",
       "      <td>1</td>\n",
       "      <td>2.20</td>\n",
       "      <td>0</td>\n",
       "    </tr>\n",
       "    <tr>\n",
       "      <th>3</th>\n",
       "      <td>32</td>\n",
       "      <td>0</td>\n",
       "      <td>1</td>\n",
       "      <td>2.53</td>\n",
       "      <td>0</td>\n",
       "    </tr>\n",
       "    <tr>\n",
       "      <th>4</th>\n",
       "      <td>25</td>\n",
       "      <td>0</td>\n",
       "      <td>1</td>\n",
       "      <td>1.78</td>\n",
       "      <td>0</td>\n",
       "    </tr>\n",
       "  </tbody>\n",
       "</table>\n",
       "</div>"
      ],
      "text/plain": [
       "    t  status  sex  logWBC  Rx\n",
       "0  35       0    1    1.45   0\n",
       "1  34       0    1    1.47   0\n",
       "2  32       0    1    2.20   0\n",
       "3  32       0    1    2.53   0\n",
       "4  25       0    1    1.78   0"
      ]
     },
     "execution_count": 3,
     "metadata": {},
     "output_type": "execute_result"
    }
   ],
   "source": [
    "from lifelines.datasets import load_leukemia\n",
    "lk = load_leukemia()\n",
    "\n",
    "lk.head()"
   ]
  },
  {
   "cell_type": "code",
   "execution_count": 4,
   "metadata": {},
   "outputs": [
    {
     "name": "stdout",
     "output_type": "stream",
     "text": [
      "<class 'pandas.core.frame.DataFrame'>\n",
      "RangeIndex: 42 entries, 0 to 41\n",
      "Data columns (total 5 columns):\n",
      " #   Column  Non-Null Count  Dtype  \n",
      "---  ------  --------------  -----  \n",
      " 0   t       42 non-null     int64  \n",
      " 1   status  42 non-null     int64  \n",
      " 2   sex     42 non-null     int64  \n",
      " 3   logWBC  42 non-null     float64\n",
      " 4   Rx      42 non-null     int64  \n",
      "dtypes: float64(1), int64(4)\n",
      "memory usage: 1.8 KB\n"
     ]
    }
   ],
   "source": [
    "lk.info()"
   ]
  },
  {
   "cell_type": "code",
   "execution_count": 5,
   "metadata": {},
   "outputs": [
    {
     "data": {
      "text/html": [
       "<div>\n",
       "<style scoped>\n",
       "    .dataframe tbody tr th:only-of-type {\n",
       "        vertical-align: middle;\n",
       "    }\n",
       "\n",
       "    .dataframe tbody tr th {\n",
       "        vertical-align: top;\n",
       "    }\n",
       "\n",
       "    .dataframe thead th {\n",
       "        text-align: right;\n",
       "    }\n",
       "</style>\n",
       "<table border=\"1\" class=\"dataframe\">\n",
       "  <thead>\n",
       "    <tr style=\"text-align: right;\">\n",
       "      <th></th>\n",
       "      <th>t</th>\n",
       "      <th>status</th>\n",
       "      <th>sex</th>\n",
       "      <th>logWBC</th>\n",
       "      <th>Rx</th>\n",
       "    </tr>\n",
       "  </thead>\n",
       "  <tbody>\n",
       "    <tr>\n",
       "      <th>count</th>\n",
       "      <td>42.000000</td>\n",
       "      <td>42.000000</td>\n",
       "      <td>42.000000</td>\n",
       "      <td>42.000000</td>\n",
       "      <td>42.000000</td>\n",
       "    </tr>\n",
       "    <tr>\n",
       "      <th>mean</th>\n",
       "      <td>12.880952</td>\n",
       "      <td>0.714286</td>\n",
       "      <td>0.476190</td>\n",
       "      <td>2.930238</td>\n",
       "      <td>0.500000</td>\n",
       "    </tr>\n",
       "    <tr>\n",
       "      <th>std</th>\n",
       "      <td>9.347498</td>\n",
       "      <td>0.457230</td>\n",
       "      <td>0.505487</td>\n",
       "      <td>0.917522</td>\n",
       "      <td>0.506061</td>\n",
       "    </tr>\n",
       "    <tr>\n",
       "      <th>min</th>\n",
       "      <td>1.000000</td>\n",
       "      <td>0.000000</td>\n",
       "      <td>0.000000</td>\n",
       "      <td>1.450000</td>\n",
       "      <td>0.000000</td>\n",
       "    </tr>\n",
       "    <tr>\n",
       "      <th>25%</th>\n",
       "      <td>6.000000</td>\n",
       "      <td>0.000000</td>\n",
       "      <td>0.000000</td>\n",
       "      <td>2.302500</td>\n",
       "      <td>0.000000</td>\n",
       "    </tr>\n",
       "    <tr>\n",
       "      <th>50%</th>\n",
       "      <td>10.500000</td>\n",
       "      <td>1.000000</td>\n",
       "      <td>0.000000</td>\n",
       "      <td>2.800000</td>\n",
       "      <td>0.500000</td>\n",
       "    </tr>\n",
       "    <tr>\n",
       "      <th>75%</th>\n",
       "      <td>18.500000</td>\n",
       "      <td>1.000000</td>\n",
       "      <td>1.000000</td>\n",
       "      <td>3.490000</td>\n",
       "      <td>1.000000</td>\n",
       "    </tr>\n",
       "    <tr>\n",
       "      <th>max</th>\n",
       "      <td>35.000000</td>\n",
       "      <td>1.000000</td>\n",
       "      <td>1.000000</td>\n",
       "      <td>5.000000</td>\n",
       "      <td>1.000000</td>\n",
       "    </tr>\n",
       "  </tbody>\n",
       "</table>\n",
       "</div>"
      ],
      "text/plain": [
       "               t     status        sex     logWBC         Rx\n",
       "count  42.000000  42.000000  42.000000  42.000000  42.000000\n",
       "mean   12.880952   0.714286   0.476190   2.930238   0.500000\n",
       "std     9.347498   0.457230   0.505487   0.917522   0.506061\n",
       "min     1.000000   0.000000   0.000000   1.450000   0.000000\n",
       "25%     6.000000   0.000000   0.000000   2.302500   0.000000\n",
       "50%    10.500000   1.000000   0.000000   2.800000   0.500000\n",
       "75%    18.500000   1.000000   1.000000   3.490000   1.000000\n",
       "max    35.000000   1.000000   1.000000   5.000000   1.000000"
      ]
     },
     "execution_count": 5,
     "metadata": {},
     "output_type": "execute_result"
    }
   ],
   "source": [
    "lk.describe()"
   ]
  },
  {
   "cell_type": "markdown",
   "metadata": {},
   "source": [
    "In the figure below, the red lines denote the lifespan of individuals where the death event has been observed, and the blue lines denote the lifespan of the right-censored individuals (deaths have not been observed). \n",
    "\n",
    "If we are asked to estimate the average lifetime of our population, and we naively decided to not included the right-censored individuals, it is clear that we would be severely underestimating the true average lifespan."
   ]
  },
  {
   "cell_type": "code",
   "execution_count": 6,
   "metadata": {},
   "outputs": [
    {
     "name": "stderr",
     "output_type": "stream",
     "text": [
      "/Users/wangshuyuan/opt/anaconda3/lib/python3.8/site-packages/lifelines/plotting.py:723: UserWarning: For less visual clutter, you may want to subsample to less than 25 individuals.\n",
      "  warnings.warn(\"For less visual clutter, you may want to subsample to less than 25 individuals.\")\n"
     ]
    },
    {
     "data": {
      "image/png": "[encoded data removed]",
      "text/plain": [
       "<Figure size 432x288 with 1 Axes>"
      ]
     },
     "metadata": {
      "needs_background": "light"
     },
     "output_type": "display_data"
    }
   ],
   "source": [
    "durations = lk.t.values\n",
    "events = lk.status.values\n",
    "\n",
    "ax = lifelines.plotting.plot_lifetimes(durations=durations, event_observed=events)\n",
    "ax.set_xlim(0, 40)\n",
    "ax.set_xlabel(\"Time in month\")\n",
    "ax.set_title(\"Lifelines for Leukemia Patients\")\n",
    "plt.show()"
   ]
  },
  {
   "cell_type": "markdown",
   "metadata": {},
   "source": [
    "## Estimating the survival function using Kaplan-Meier\n",
    "\n",
    "Define survival function as $$\\hat{S(t)}=\\prod_{t_i<t}\\frac{n_i-d_i}{n_i}$$\n",
    "where $d_i$ is the number of death events at time $t$ and $n_i$ is the number of subjects at risk of death just prior to time $t$.\n",
    "\n",
    "The KM estimate results in a step function that changes value only at the time of each event, and confidence intervals can be computed for the survival probabilities.\n",
    "\n",
    "The KM survival curve, a plot of KM survival probability against time, provides a useful summary of the data. **It can be used to estimate measures such as median survival time**.\n",
    "\n",
    "It CANNOT account for risk factors and is **NOT regression**. It is **non-parametric** (does not involve parameters).\n",
    "\n",
    "However it is a good way to visualize a survival dataset, and can be useful to **compare the effects of a single categorical variable**."
   ]
  },
  {
   "cell_type": "markdown",
   "metadata": {},
   "source": [
    "### Population survival curve"
   ]
  },
  {
   "cell_type": "code",
   "execution_count": 7,
   "metadata": {},
   "outputs": [
    {
     "name": "stdout",
     "output_type": "stream",
     "text": [
      "Median Survival: 12.0 months after treatment\n"
     ]
    },
    {
     "data": {
      "image/png": "[encoded data removed]",
      "text/plain": [
       "<Figure size 432x288 with 1 Axes>"
      ]
     },
     "metadata": {
      "needs_background": "light"
     },
     "output_type": "display_data"
    }
   ],
   "source": [
    "kmf = lifelines.KaplanMeierFitter()\n",
    "kmf.fit(durations, events)\n",
    "\n",
    "kmf.survival_function_.plot()\n",
    "plt.title('KM Survival Function: Leukemia Patients');\n",
    "print('Median Survival: {} months after treatment'.format(kmf._median))"
   ]
  },
  {
   "cell_type": "markdown",
   "metadata": {},
   "source": [
    "### Survival curves by treatment `Rx`"
   ]
  },
  {
   "cell_type": "code",
   "execution_count": 8,
   "metadata": {},
   "outputs": [
    {
     "name": "stdout",
     "output_type": "stream",
     "text": [
      "Median survival time with Treatment 1: 8.0 months\n",
      "Median survival time with Treatment 0: 23.0 months\n"
     ]
    },
    {
     "data": {
      "image/png": "[encoded data removed]",
      "text/plain": [
       "<Figure size 432x288 with 1 Axes>"
      ]
     },
     "metadata": {
      "needs_background": "light"
     },
     "output_type": "display_data"
    }
   ],
   "source": [
    "ax = plt.subplot(111)\n",
    "\n",
    "treatment = (lk['Rx']==1)\n",
    "\n",
    "kmf.fit(durations[treatment], events[treatment], label = 'Treatment 1')\n",
    "kmf.plot_survival_function(ax=ax)\n",
    "print('Median survival time with Treatment 1: {} months'.format(kmf._median))\n",
    "\n",
    "kmf.fit(durations[~treatment], events[~treatment], label = 'Treatment 0')\n",
    "kmf.plot_survival_function(ax=ax)\n",
    "print('Median survival time with Treatment 0: {} months'.format(kmf._median))"
   ]
  },
  {
   "cell_type": "markdown",
   "metadata": {},
   "source": [
    "## Cox proportional hazards model (survival regression)\n",
    "$$h(t|x)=b_0(t) exp(\\sum_{i=1}^nb_i(x_i-\\bar{x_i})$$\n",
    "Useful for comparing relative hazards. It assumes the ratio of death event risks (hazard) of two groups remains about the same over time. This ratio is called the hazards ratio or the relative risk.\n",
    "\n",
    "All Cox regression requires is an assumption that ratio of hazards is constant over time across groups."
   ]
  },
  {
   "cell_type": "code",
   "execution_count": 10,
   "metadata": {},
   "outputs": [
    {
     "data": {
      "text/html": [
       "<div>\n",
       "<style scoped>\n",
       "    .dataframe tbody tr th:only-of-type {\n",
       "        vertical-align: middle;\n",
       "    }\n",
       "\n",
       "    .dataframe tbody tr th {\n",
       "        vertical-align: top;\n",
       "    }\n",
       "\n",
       "    .dataframe thead th {\n",
       "        text-align: right;\n",
       "    }\n",
       "</style>\n",
       "<table border=\"1\" class=\"dataframe\">\n",
       "  <tbody>\n",
       "    <tr>\n",
       "      <th>model</th>\n",
       "      <td>lifelines.CoxPHFitter</td>\n",
       "    </tr>\n",
       "    <tr>\n",
       "      <th>duration col</th>\n",
       "      <td>'t'</td>\n",
       "    </tr>\n",
       "    <tr>\n",
       "      <th>event col</th>\n",
       "      <td>'status'</td>\n",
       "    </tr>\n",
       "    <tr>\n",
       "      <th>baseline estimation</th>\n",
       "      <td>breslow</td>\n",
       "    </tr>\n",
       "    <tr>\n",
       "      <th>number of observations</th>\n",
       "      <td>42</td>\n",
       "    </tr>\n",
       "    <tr>\n",
       "      <th>number of events observed</th>\n",
       "      <td>30</td>\n",
       "    </tr>\n",
       "    <tr>\n",
       "      <th>partial log-likelihood</th>\n",
       "      <td>-69.59</td>\n",
       "    </tr>\n",
       "    <tr>\n",
       "      <th>time fit was run</th>\n",
       "      <td>2022-05-26 02:50:04 UTC</td>\n",
       "    </tr>\n",
       "  </tbody>\n",
       "</table>\n",
       "</div><table border=\"1\" class=\"dataframe\">\n",
       "  <thead>\n",
       "    <tr style=\"text-align: right;\">\n",
       "      <th style=\"min-width: 12px;\"></th>\n",
       "      <th style=\"min-width: 12px;\">coef</th>\n",
       "      <th style=\"min-width: 12px;\">exp(coef)</th>\n",
       "      <th style=\"min-width: 12px;\">se(coef)</th>\n",
       "      <th style=\"min-width: 12px;\">coef lower 95%</th>\n",
       "      <th style=\"min-width: 12px;\">coef upper 95%</th>\n",
       "      <th style=\"min-width: 12px;\">exp(coef) lower 95%</th>\n",
       "      <th style=\"min-width: 12px;\">exp(coef) upper 95%</th>\n",
       "      <th style=\"min-width: 12px;\">cmp to</th>\n",
       "      <th style=\"min-width: 12px;\">z</th>\n",
       "      <th style=\"min-width: 12px;\">p</th>\n",
       "      <th style=\"min-width: 12px;\">-log2(p)</th>\n",
       "    </tr>\n",
       "  </thead>\n",
       "  <tbody>\n",
       "    <tr>\n",
       "      <th>sex</th>\n",
       "      <td>0.31</td>\n",
       "      <td>1.37</td>\n",
       "      <td>0.45</td>\n",
       "      <td>-0.58</td>\n",
       "      <td>1.21</td>\n",
       "      <td>0.56</td>\n",
       "      <td>3.34</td>\n",
       "      <td>0.00</td>\n",
       "      <td>0.69</td>\n",
       "      <td>0.49</td>\n",
       "      <td>1.03</td>\n",
       "    </tr>\n",
       "    <tr>\n",
       "      <th>logWBC</th>\n",
       "      <td>1.68</td>\n",
       "      <td>5.38</td>\n",
       "      <td>0.34</td>\n",
       "      <td>1.02</td>\n",
       "      <td>2.34</td>\n",
       "      <td>2.78</td>\n",
       "      <td>10.40</td>\n",
       "      <td>0.00</td>\n",
       "      <td>5.00</td>\n",
       "      <td>&lt;0.005</td>\n",
       "      <td>20.71</td>\n",
       "    </tr>\n",
       "    <tr>\n",
       "      <th>Rx</th>\n",
       "      <td>1.50</td>\n",
       "      <td>4.50</td>\n",
       "      <td>0.46</td>\n",
       "      <td>0.60</td>\n",
       "      <td>2.41</td>\n",
       "      <td>1.82</td>\n",
       "      <td>11.11</td>\n",
       "      <td>0.00</td>\n",
       "      <td>3.26</td>\n",
       "      <td>&lt;0.005</td>\n",
       "      <td>9.80</td>\n",
       "    </tr>\n",
       "  </tbody>\n",
       "</table><br><div>\n",
       "<style scoped>\n",
       "    .dataframe tbody tr th:only-of-type {\n",
       "        vertical-align: middle;\n",
       "    }\n",
       "\n",
       "    .dataframe tbody tr th {\n",
       "        vertical-align: top;\n",
       "    }\n",
       "\n",
       "    .dataframe thead th {\n",
       "        text-align: right;\n",
       "    }\n",
       "</style>\n",
       "<table border=\"1\" class=\"dataframe\">\n",
       "  <tbody>\n",
       "    <tr>\n",
       "      <th>Concordance</th>\n",
       "      <td>0.85</td>\n",
       "    </tr>\n",
       "    <tr>\n",
       "      <th>Partial AIC</th>\n",
       "      <td>145.18</td>\n",
       "    </tr>\n",
       "    <tr>\n",
       "      <th>log-likelihood ratio test</th>\n",
       "      <td>47.19 on 3 df</td>\n",
       "    </tr>\n",
       "    <tr>\n",
       "      <th>-log2(p) of ll-ratio test</th>\n",
       "      <td>31.55</td>\n",
       "    </tr>\n",
       "  </tbody>\n",
       "</table>\n",
       "</div>"
      ],
      "text/latex": [
       "\\begin{tabular}{lrrrrrrrrrrr}\n",
       "\\toprule\n",
       "{} &  coef &  exp(coef) &  se(coef) &  coef lower 95\\% &  coef upper 95\\% &  exp(coef) lower 95\\% &  exp(coef) upper 95\\% &  cmp to &    z &    p &  -log2(p) \\\\\n",
       "covariate &       &            &           &                 &                 &                      &                      &         &      &      &           \\\\\n",
       "\\midrule\n",
       "sex       &  0.31 &       1.37 &      0.45 &           -0.58 &            1.21 &                 0.56 &                 3.34 &    0.00 & 0.69 & 0.49 &      1.03 \\\\\n",
       "logWBC    &  1.68 &       5.38 &      0.34 &            1.02 &            2.34 &                 2.78 &                10.40 &    0.00 & 5.00 & 0.00 &     20.71 \\\\\n",
       "Rx        &  1.50 &       4.50 &      0.46 &            0.60 &            2.41 &                 1.82 &                11.11 &    0.00 & 3.26 & 0.00 &      9.80 \\\\\n",
       "\\bottomrule\n",
       "\\end{tabular}\n"
      ],
      "text/plain": [
       "<lifelines.CoxPHFitter: fitted with 42 total observations, 12 right-censored observations>\n",
       "             duration col = 't'\n",
       "                event col = 'status'\n",
       "      baseline estimation = breslow\n",
       "   number of observations = 42\n",
       "number of events observed = 30\n",
       "   partial log-likelihood = -69.59\n",
       "         time fit was run = 2022-05-26 02:50:04 UTC\n",
       "\n",
       "---\n",
       "            coef  exp(coef)   se(coef)   coef lower 95%   coef upper 95%  exp(coef) lower 95%  exp(coef) upper 95%\n",
       "covariate                                                                                                         \n",
       "sex         0.31       1.37       0.45            -0.58             1.21                 0.56                 3.34\n",
       "logWBC      1.68       5.38       0.34             1.02             2.34                 2.78                10.40\n",
       "Rx          1.50       4.50       0.46             0.60             2.41                 1.82                11.11\n",
       "\n",
       "            cmp to    z      p   -log2(p)\n",
       "covariate                                \n",
       "sex           0.00 0.69   0.49       1.03\n",
       "logWBC        0.00 5.00 <0.005      20.71\n",
       "Rx            0.00 3.26 <0.005       9.80\n",
       "---\n",
       "Concordance = 0.85\n",
       "Partial AIC = 145.18\n",
       "log-likelihood ratio test = 47.19 on 3 df\n",
       "-log2(p) of ll-ratio test = 31.55"
      ]
     },
     "metadata": {},
     "output_type": "display_data"
    }
   ],
   "source": [
    "cph = lifelines.CoxPHFitter()\n",
    "cph.fit(df=lk, duration_col='t', event_col='status')\n",
    "cph.print_summary()"
   ]
  },
  {
   "cell_type": "markdown",
   "metadata": {},
   "source": [
    "### Interpret the results\n",
    "\n",
    "- `exp(coef)`: the estimated hazard ratio. \n",
    "    - `Rx`: Participants who received treatment 1 had 4.5 times the hazard risk (risk of death) compared to those who received treatment 2. \n",
    "    - `logWBC`: For every unit the `logWBC` increased, the hazard risk increased 5.38 times.\n",
    "- `se(coef)`: standard error of the coefficient (used for calculating z-score and therefore p-value)\n",
    "- `p`: describes statistical significance. It is the likelihood that the variable has no effect on the outcome\n",
    "- `-log2(p)`: natural logarithm of p-value, used to more easily see differences in significance\n",
    "- `lower/upper 0.95`: 95% confidence level. The output includes 95% CI for `coef` and 95% CI for `exp(coef)`\n",
    "- `Concordance`: a measure of predictive power for classification problems (Here looking at the `status` column. A value from 0 to 1 where values above 0.6 are considered good fits, the higher the better)\n",
    "- `log-likelihood ratio test`: this is a measure of how likely it is that the coefficients are not zero, and can compare the goodness of fit of a model versus an alternative null model."
   ]
  },
  {
   "cell_type": "markdown",
   "metadata": {},
   "source": [
    "### Plot the effect of varying a covariate\n",
    "After fitting, we can plot **what the survival curves look like as we vary a single covariate while holding everything else equal**. This is useful to understand the impact of a covariate, given the model.\n",
    "\n",
    "#### Continuous feature\n",
    "Must bin with 'values' argument"
   ]
  },
  {
   "cell_type": "code",
   "execution_count": 11,
   "metadata": {},
   "outputs": [
    {
     "data": {
      "text/plain": [
       "<AxesSubplot:>"
      ]
     },
     "execution_count": 11,
     "metadata": {},
     "output_type": "execute_result"
    },
    {
     "data": {
      "image/png": "[encoded data removed]",
      "text/plain": [
       "<Figure size 432x288 with 1 Axes>"
      ]
     },
     "metadata": {
      "needs_background": "light"
     },
     "output_type": "display_data"
    }
   ],
   "source": [
    "cph.plot_covariate_groups(covariates='logWBC', values=np.arange(1.5,5,.5))"
   ]
  },
  {
   "cell_type": "markdown",
   "metadata": {},
   "source": [
    "### Categorical feature"
   ]
  },
  {
   "cell_type": "code",
   "execution_count": 12,
   "metadata": {},
   "outputs": [
    {
     "data": {
      "image/png": "[encoded data removed]",
      "text/plain": [
       "<Figure size 432x288 with 1 Axes>"
      ]
     },
     "metadata": {
      "needs_background": "light"
     },
     "output_type": "display_data"
    }
   ],
   "source": [
    "cph.plot_covariate_groups(covariates='sex', values=[0,1]);"
   ]
  },
  {
   "cell_type": "code",
   "execution_count": 13,
   "metadata": {},
   "outputs": [
    {
     "data": {
      "text/plain": [
       "<AxesSubplot:>"
      ]
     },
     "execution_count": 13,
     "metadata": {},
     "output_type": "execute_result"
    },
    {
     "data": {
      "image/png": "[encoded data removed]",
      "text/plain": [
       "<Figure size 432x288 with 1 Axes>"
      ]
     },
     "metadata": {
      "needs_background": "light"
     },
     "output_type": "display_data"
    }
   ],
   "source": [
    "# categorical feature\n",
    "# is it the same as KM survival curve?\n",
    "cph.plot_covariate_groups(covariates='Rx', values=[0,1])"
   ]
  },
  {
   "cell_type": "code",
   "execution_count": 14,
   "metadata": {},
   "outputs": [
    {
     "data": {
      "text/plain": [
       "<AxesSubplot:>"
      ]
     },
     "execution_count": 14,
     "metadata": {},
     "output_type": "execute_result"
    },
    {
     "data": {
      "image/png": "[encoded data removed]",
      "text/plain": [
       "<Figure size 432x288 with 1 Axes>"
      ]
     },
     "metadata": {
      "needs_background": "light"
     },
     "output_type": "display_data"
    }
   ],
   "source": [
    "# A different method\n",
    "cph.plot_partial_effects_on_outcome(covariates='logWBC', values=np.arange(1.5,5,.5), cmap='coolwarm')"
   ]
  },
  {
   "cell_type": "markdown",
   "metadata": {},
   "source": [
    "### Check the proportional hazards assumption\n",
    "\n",
    "Assumption: the ratio of death events between groups remains constant over time."
   ]
  },
  {
   "cell_type": "code",
   "execution_count": 15,
   "metadata": {},
   "outputs": [
    {
     "name": "stdout",
     "output_type": "stream",
     "text": [
      "Proportional hazard assumption looks okay.\n"
     ]
    }
   ],
   "source": [
    "axes = cph.check_assumptions(lk, show_plots=True)"
   ]
  },
  {
   "cell_type": "markdown",
   "metadata": {},
   "source": [
    "Although the test says the proportional hazard assumption looks okay, `sex` has 95% CI of log hazard ratio (log hazard ratio=coef) across 0 (i.e., hazard ratio across exp(0)=1, which means no effect between two groups). It indicates `sex` is not very useful for studying the treatment impact on survival."
   ]
  },
  {
   "cell_type": "code",
   "execution_count": 16,
   "metadata": {},
   "outputs": [
    {
     "data": {
      "text/plain": [
       "<AxesSubplot:xlabel='log(HR) (95% CI)'>"
      ]
     },
     "execution_count": 16,
     "metadata": {},
     "output_type": "execute_result"
    },
    {
     "data": {
      "image/png": "[encoded data removed]",
      "text/plain": [
       "<Figure size 432x288 with 1 Axes>"
      ]
     },
     "metadata": {
      "needs_background": "light"
     },
     "output_type": "display_data"
    }
   ],
   "source": [
    "cph.plot()"
   ]
  },
  {
   "cell_type": "code",
   "execution_count": 17,
   "metadata": {},
   "outputs": [
    {
     "data": {
      "text/html": [
       "<div>\n",
       "<style scoped>\n",
       "    .dataframe tbody tr th:only-of-type {\n",
       "        vertical-align: middle;\n",
       "    }\n",
       "\n",
       "    .dataframe tbody tr th {\n",
       "        vertical-align: top;\n",
       "    }\n",
       "\n",
       "    .dataframe thead th {\n",
       "        text-align: right;\n",
       "    }\n",
       "</style>\n",
       "<table border=\"1\" class=\"dataframe\">\n",
       "  <tbody>\n",
       "    <tr>\n",
       "      <th>model</th>\n",
       "      <td>lifelines.CoxPHFitter</td>\n",
       "    </tr>\n",
       "    <tr>\n",
       "      <th>duration col</th>\n",
       "      <td>'t'</td>\n",
       "    </tr>\n",
       "    <tr>\n",
       "      <th>event col</th>\n",
       "      <td>'status'</td>\n",
       "    </tr>\n",
       "    <tr>\n",
       "      <th>strata</th>\n",
       "      <td>[sex]</td>\n",
       "    </tr>\n",
       "    <tr>\n",
       "      <th>baseline estimation</th>\n",
       "      <td>breslow</td>\n",
       "    </tr>\n",
       "    <tr>\n",
       "      <th>number of observations</th>\n",
       "      <td>42</td>\n",
       "    </tr>\n",
       "    <tr>\n",
       "      <th>number of events observed</th>\n",
       "      <td>30</td>\n",
       "    </tr>\n",
       "    <tr>\n",
       "      <th>partial log-likelihood</th>\n",
       "      <td>-55.73</td>\n",
       "    </tr>\n",
       "    <tr>\n",
       "      <th>time fit was run</th>\n",
       "      <td>2022-05-26 02:50:17 UTC</td>\n",
       "    </tr>\n",
       "  </tbody>\n",
       "</table>\n",
       "</div><table border=\"1\" class=\"dataframe\">\n",
       "  <thead>\n",
       "    <tr style=\"text-align: right;\">\n",
       "      <th style=\"min-width: 12px;\"></th>\n",
       "      <th style=\"min-width: 12px;\">coef</th>\n",
       "      <th style=\"min-width: 12px;\">exp(coef)</th>\n",
       "      <th style=\"min-width: 12px;\">se(coef)</th>\n",
       "      <th style=\"min-width: 12px;\">coef lower 95%</th>\n",
       "      <th style=\"min-width: 12px;\">coef upper 95%</th>\n",
       "      <th style=\"min-width: 12px;\">exp(coef) lower 95%</th>\n",
       "      <th style=\"min-width: 12px;\">exp(coef) upper 95%</th>\n",
       "      <th style=\"min-width: 12px;\">cmp to</th>\n",
       "      <th style=\"min-width: 12px;\">z</th>\n",
       "      <th style=\"min-width: 12px;\">p</th>\n",
       "      <th style=\"min-width: 12px;\">-log2(p)</th>\n",
       "    </tr>\n",
       "  </thead>\n",
       "  <tbody>\n",
       "    <tr>\n",
       "      <th>logWBC</th>\n",
       "      <td>1.45</td>\n",
       "      <td>4.28</td>\n",
       "      <td>0.34</td>\n",
       "      <td>0.78</td>\n",
       "      <td>2.13</td>\n",
       "      <td>2.18</td>\n",
       "      <td>8.40</td>\n",
       "      <td>0.00</td>\n",
       "      <td>4.22</td>\n",
       "      <td>&lt;0.005</td>\n",
       "      <td>15.35</td>\n",
       "    </tr>\n",
       "    <tr>\n",
       "      <th>Rx</th>\n",
       "      <td>1.00</td>\n",
       "      <td>2.71</td>\n",
       "      <td>0.47</td>\n",
       "      <td>0.07</td>\n",
       "      <td>1.93</td>\n",
       "      <td>1.07</td>\n",
       "      <td>6.86</td>\n",
       "      <td>0.00</td>\n",
       "      <td>2.11</td>\n",
       "      <td>0.04</td>\n",
       "      <td>4.83</td>\n",
       "    </tr>\n",
       "  </tbody>\n",
       "</table><br><div>\n",
       "<style scoped>\n",
       "    .dataframe tbody tr th:only-of-type {\n",
       "        vertical-align: middle;\n",
       "    }\n",
       "\n",
       "    .dataframe tbody tr th {\n",
       "        vertical-align: top;\n",
       "    }\n",
       "\n",
       "    .dataframe thead th {\n",
       "        text-align: right;\n",
       "    }\n",
       "</style>\n",
       "<table border=\"1\" class=\"dataframe\">\n",
       "  <tbody>\n",
       "    <tr>\n",
       "      <th>Concordance</th>\n",
       "      <td>0.81</td>\n",
       "    </tr>\n",
       "    <tr>\n",
       "      <th>Partial AIC</th>\n",
       "      <td>115.47</td>\n",
       "    </tr>\n",
       "    <tr>\n",
       "      <th>log-likelihood ratio test</th>\n",
       "      <td>32.06 on 2 df</td>\n",
       "    </tr>\n",
       "    <tr>\n",
       "      <th>-log2(p) of ll-ratio test</th>\n",
       "      <td>23.13</td>\n",
       "    </tr>\n",
       "  </tbody>\n",
       "</table>\n",
       "</div>"
      ],
      "text/latex": [
       "\\begin{tabular}{lrrrrrrrrrrr}\n",
       "\\toprule\n",
       "{} &  coef &  exp(coef) &  se(coef) &  coef lower 95\\% &  coef upper 95\\% &  exp(coef) lower 95\\% &  exp(coef) upper 95\\% &  cmp to &    z &    p &  -log2(p) \\\\\n",
       "covariate &       &            &           &                 &                 &                      &                      &         &      &      &           \\\\\n",
       "\\midrule\n",
       "logWBC    &  1.45 &       4.28 &      0.34 &            0.78 &            2.13 &                 2.18 &                 8.40 &    0.00 & 4.22 & 0.00 &     15.35 \\\\\n",
       "Rx        &  1.00 &       2.71 &      0.47 &            0.07 &            1.93 &                 1.07 &                 6.86 &    0.00 & 2.11 & 0.04 &      4.83 \\\\\n",
       "\\bottomrule\n",
       "\\end{tabular}\n"
      ],
      "text/plain": [
       "<lifelines.CoxPHFitter: fitted with 42 total observations, 12 right-censored observations>\n",
       "             duration col = 't'\n",
       "                event col = 'status'\n",
       "                   strata = ['sex']\n",
       "      baseline estimation = breslow\n",
       "   number of observations = 42\n",
       "number of events observed = 30\n",
       "   partial log-likelihood = -55.73\n",
       "         time fit was run = 2022-05-26 02:50:17 UTC\n",
       "\n",
       "---\n",
       "            coef  exp(coef)   se(coef)   coef lower 95%   coef upper 95%  exp(coef) lower 95%  exp(coef) upper 95%\n",
       "covariate                                                                                                         \n",
       "logWBC      1.45       4.28       0.34             0.78             2.13                 2.18                 8.40\n",
       "Rx          1.00       2.71       0.47             0.07             1.93                 1.07                 6.86\n",
       "\n",
       "            cmp to    z      p   -log2(p)\n",
       "covariate                                \n",
       "logWBC        0.00 4.22 <0.005      15.35\n",
       "Rx            0.00 2.11   0.04       4.83\n",
       "---\n",
       "Concordance = 0.81\n",
       "Partial AIC = 115.47\n",
       "log-likelihood ratio test = 32.06 on 2 df\n",
       "-log2(p) of ll-ratio test = 23.13"
      ]
     },
     "metadata": {},
     "output_type": "display_data"
    }
   ],
   "source": [
    "cph = lifelines.CoxPHFitter()\n",
    "cph.fit(df=lk, duration_col='t', event_col='status', strata=['sex'])\n",
    "cph.print_summary()"
   ]
  },
  {
   "cell_type": "code",
   "execution_count": 18,
   "metadata": {},
   "outputs": [
    {
     "data": {
      "text/plain": [
       "<AxesSubplot:xlabel='log(HR) (95% CI)'>"
      ]
     },
     "execution_count": 18,
     "metadata": {},
     "output_type": "execute_result"
    },
    {
     "data": {
      "image/png": "[encoded data removed]",
      "text/plain": [
       "<Figure size 432x288 with 1 Axes>"
      ]
     },
     "metadata": {
      "needs_background": "light"
     },
     "output_type": "display_data"
    }
   ],
   "source": [
    "cph.plot()"
   ]
  },
  {
   "cell_type": "markdown",
   "metadata": {},
   "source": [
    "Not including `sex`, the regression has log-likelihood ratio test statistic of 32.06 on 2 df.\n",
    "\n",
    "Including `sex`, the regression has log-likelihood ratio test statistic of 47.19 on 3 df.\n",
    "\n",
    "The new model seems not be better than the original model."
   ]
  },
  {
   "cell_type": "markdown",
   "metadata": {},
   "source": [
    "### Predict\n",
    "Predict the survival function for individuals, given their covariates. This assumes that the individual just entered the study (that is, we do not condition on how long they have already lived for.)"
   ]
  },
  {
   "cell_type": "code",
   "execution_count": 20,
   "metadata": {},
   "outputs": [
    {
     "data": {
      "text/plain": [
       "<lifelines.CoxPHFitter: fitted with 42 total observations, 12 right-censored observations>"
      ]
     },
     "execution_count": 20,
     "metadata": {},
     "output_type": "execute_result"
    }
   ],
   "source": [
    "cph = lifelines.CoxPHFitter()\n",
    "cph.fit(df=lk, duration_col='t', event_col='status')"
   ]
  },
  {
   "cell_type": "code",
   "execution_count": 21,
   "metadata": {},
   "outputs": [
    {
     "data": {
      "image/png": "[encoded data removed]",
      "text/plain": [
       "<Figure size 432x288 with 1 Axes>"
      ]
     },
     "metadata": {
      "needs_background": "light"
     },
     "output_type": "display_data"
    }
   ],
   "source": [
    "surv_func = cph.predict_survival_function(lk[:5])\n",
    "\n",
    "exp_lifetime = cph.predict_expectation(lk[:5])\n",
    "\n",
    "plt.plot(surv_func)\n",
    "plt.show()"
   ]
  },
  {
   "cell_type": "markdown",
   "metadata": {},
   "source": [
    "No.3 has the least expected lifetime, and he/she has the largest hazard when the time arrives at the 35th month.\n",
    "\n",
    "No.0 and No.1 have the longest expected lifetime, and they have the smallest hazard when the time arrives at the 35th month."
   ]
  },
  {
   "cell_type": "code",
   "execution_count": 22,
   "metadata": {},
   "outputs": [
    {
     "data": {
      "text/plain": [
       "0    31.483411\n",
       "1    31.402901\n",
       "2    26.371095\n",
       "3    22.498885\n",
       "4    29.813351\n",
       "dtype: float64"
      ]
     },
     "execution_count": 22,
     "metadata": {},
     "output_type": "execute_result"
    }
   ],
   "source": [
    "exp_lifetime"
   ]
  },
  {
   "cell_type": "code",
   "execution_count": 23,
   "metadata": {},
   "outputs": [
    {
     "data": {
      "text/html": [
       "<div>\n",
       "<style scoped>\n",
       "    .dataframe tbody tr th:only-of-type {\n",
       "        vertical-align: middle;\n",
       "    }\n",
       "\n",
       "    .dataframe tbody tr th {\n",
       "        vertical-align: top;\n",
       "    }\n",
       "\n",
       "    .dataframe thead th {\n",
       "        text-align: right;\n",
       "    }\n",
       "</style>\n",
       "<table border=\"1\" class=\"dataframe\">\n",
       "  <thead>\n",
       "    <tr style=\"text-align: right;\">\n",
       "      <th></th>\n",
       "      <th>0</th>\n",
       "      <th>1</th>\n",
       "      <th>2</th>\n",
       "      <th>3</th>\n",
       "      <th>4</th>\n",
       "    </tr>\n",
       "  </thead>\n",
       "  <tbody>\n",
       "    <tr>\n",
       "      <th>1.0</th>\n",
       "      <td>0.000321</td>\n",
       "      <td>0.000332</td>\n",
       "      <td>0.001134</td>\n",
       "      <td>0.001975</td>\n",
       "      <td>0.000559</td>\n",
       "    </tr>\n",
       "    <tr>\n",
       "      <th>2.0</th>\n",
       "      <td>0.000773</td>\n",
       "      <td>0.000800</td>\n",
       "      <td>0.002730</td>\n",
       "      <td>0.004756</td>\n",
       "      <td>0.001347</td>\n",
       "    </tr>\n",
       "    <tr>\n",
       "      <th>3.0</th>\n",
       "      <td>0.001234</td>\n",
       "      <td>0.001276</td>\n",
       "      <td>0.004355</td>\n",
       "      <td>0.007587</td>\n",
       "      <td>0.002149</td>\n",
       "    </tr>\n",
       "    <tr>\n",
       "      <th>4.0</th>\n",
       "      <td>0.002321</td>\n",
       "      <td>0.002400</td>\n",
       "      <td>0.008194</td>\n",
       "      <td>0.014275</td>\n",
       "      <td>0.004043</td>\n",
       "    </tr>\n",
       "    <tr>\n",
       "      <th>5.0</th>\n",
       "      <td>0.003966</td>\n",
       "      <td>0.004102</td>\n",
       "      <td>0.014003</td>\n",
       "      <td>0.024393</td>\n",
       "      <td>0.006909</td>\n",
       "    </tr>\n",
       "    <tr>\n",
       "      <th>6.0</th>\n",
       "      <td>0.007500</td>\n",
       "      <td>0.007756</td>\n",
       "      <td>0.026478</td>\n",
       "      <td>0.046125</td>\n",
       "      <td>0.013064</td>\n",
       "    </tr>\n",
       "    <tr>\n",
       "      <th>7.0</th>\n",
       "      <td>0.008859</td>\n",
       "      <td>0.009162</td>\n",
       "      <td>0.031277</td>\n",
       "      <td>0.054486</td>\n",
       "      <td>0.015433</td>\n",
       "    </tr>\n",
       "    <tr>\n",
       "      <th>8.0</th>\n",
       "      <td>0.015250</td>\n",
       "      <td>0.015771</td>\n",
       "      <td>0.053840</td>\n",
       "      <td>0.093790</td>\n",
       "      <td>0.026565</td>\n",
       "    </tr>\n",
       "    <tr>\n",
       "      <th>9.0</th>\n",
       "      <td>0.015250</td>\n",
       "      <td>0.015771</td>\n",
       "      <td>0.053840</td>\n",
       "      <td>0.093790</td>\n",
       "      <td>0.026565</td>\n",
       "    </tr>\n",
       "    <tr>\n",
       "      <th>10.0</th>\n",
       "      <td>0.018066</td>\n",
       "      <td>0.018684</td>\n",
       "      <td>0.063784</td>\n",
       "      <td>0.111112</td>\n",
       "      <td>0.031471</td>\n",
       "    </tr>\n",
       "    <tr>\n",
       "      <th>11.0</th>\n",
       "      <td>0.023952</td>\n",
       "      <td>0.024771</td>\n",
       "      <td>0.084563</td>\n",
       "      <td>0.147309</td>\n",
       "      <td>0.041724</td>\n",
       "    </tr>\n",
       "    <tr>\n",
       "      <th>12.0</th>\n",
       "      <td>0.032915</td>\n",
       "      <td>0.034041</td>\n",
       "      <td>0.116208</td>\n",
       "      <td>0.202435</td>\n",
       "      <td>0.057338</td>\n",
       "    </tr>\n",
       "    <tr>\n",
       "      <th>13.0</th>\n",
       "      <td>0.038786</td>\n",
       "      <td>0.040113</td>\n",
       "      <td>0.136937</td>\n",
       "      <td>0.238546</td>\n",
       "      <td>0.067566</td>\n",
       "    </tr>\n",
       "    <tr>\n",
       "      <th>15.0</th>\n",
       "      <td>0.044950</td>\n",
       "      <td>0.046488</td>\n",
       "      <td>0.158700</td>\n",
       "      <td>0.276458</td>\n",
       "      <td>0.078304</td>\n",
       "    </tr>\n",
       "    <tr>\n",
       "      <th>16.0</th>\n",
       "      <td>0.051684</td>\n",
       "      <td>0.053452</td>\n",
       "      <td>0.182473</td>\n",
       "      <td>0.317870</td>\n",
       "      <td>0.090034</td>\n",
       "    </tr>\n",
       "    <tr>\n",
       "      <th>17.0</th>\n",
       "      <td>0.060667</td>\n",
       "      <td>0.062743</td>\n",
       "      <td>0.214189</td>\n",
       "      <td>0.373121</td>\n",
       "      <td>0.105683</td>\n",
       "    </tr>\n",
       "    <tr>\n",
       "      <th>19.0</th>\n",
       "      <td>0.060667</td>\n",
       "      <td>0.062743</td>\n",
       "      <td>0.214189</td>\n",
       "      <td>0.373121</td>\n",
       "      <td>0.105683</td>\n",
       "    </tr>\n",
       "    <tr>\n",
       "      <th>20.0</th>\n",
       "      <td>0.060667</td>\n",
       "      <td>0.062743</td>\n",
       "      <td>0.214189</td>\n",
       "      <td>0.373121</td>\n",
       "      <td>0.105683</td>\n",
       "    </tr>\n",
       "    <tr>\n",
       "      <th>22.0</th>\n",
       "      <td>0.092208</td>\n",
       "      <td>0.095362</td>\n",
       "      <td>0.325544</td>\n",
       "      <td>0.567102</td>\n",
       "      <td>0.160627</td>\n",
       "    </tr>\n",
       "    <tr>\n",
       "      <th>23.0</th>\n",
       "      <td>0.157099</td>\n",
       "      <td>0.162473</td>\n",
       "      <td>0.554647</td>\n",
       "      <td>0.966201</td>\n",
       "      <td>0.273668</td>\n",
       "    </tr>\n",
       "    <tr>\n",
       "      <th>25.0</th>\n",
       "      <td>0.157099</td>\n",
       "      <td>0.162473</td>\n",
       "      <td>0.554647</td>\n",
       "      <td>0.966201</td>\n",
       "      <td>0.273668</td>\n",
       "    </tr>\n",
       "    <tr>\n",
       "      <th>32.0</th>\n",
       "      <td>0.157099</td>\n",
       "      <td>0.162473</td>\n",
       "      <td>0.554647</td>\n",
       "      <td>0.966201</td>\n",
       "      <td>0.273668</td>\n",
       "    </tr>\n",
       "    <tr>\n",
       "      <th>34.0</th>\n",
       "      <td>0.157099</td>\n",
       "      <td>0.162473</td>\n",
       "      <td>0.554647</td>\n",
       "      <td>0.966201</td>\n",
       "      <td>0.273668</td>\n",
       "    </tr>\n",
       "    <tr>\n",
       "      <th>35.0</th>\n",
       "      <td>0.157099</td>\n",
       "      <td>0.162473</td>\n",
       "      <td>0.554647</td>\n",
       "      <td>0.966201</td>\n",
       "      <td>0.273668</td>\n",
       "    </tr>\n",
       "  </tbody>\n",
       "</table>\n",
       "</div>"
      ],
      "text/plain": [
       "             0         1         2         3         4\n",
       "1.0   0.000321  0.000332  0.001134  0.001975  0.000559\n",
       "2.0   0.000773  0.000800  0.002730  0.004756  0.001347\n",
       "3.0   0.001234  0.001276  0.004355  0.007587  0.002149\n",
       "4.0   0.002321  0.002400  0.008194  0.014275  0.004043\n",
       "5.0   0.003966  0.004102  0.014003  0.024393  0.006909\n",
       "6.0   0.007500  0.007756  0.026478  0.046125  0.013064\n",
       "7.0   0.008859  0.009162  0.031277  0.054486  0.015433\n",
       "8.0   0.015250  0.015771  0.053840  0.093790  0.026565\n",
       "9.0   0.015250  0.015771  0.053840  0.093790  0.026565\n",
       "10.0  0.018066  0.018684  0.063784  0.111112  0.031471\n",
       "11.0  0.023952  0.024771  0.084563  0.147309  0.041724\n",
       "12.0  0.032915  0.034041  0.116208  0.202435  0.057338\n",
       "13.0  0.038786  0.040113  0.136937  0.238546  0.067566\n",
       "15.0  0.044950  0.046488  0.158700  0.276458  0.078304\n",
       "16.0  0.051684  0.053452  0.182473  0.317870  0.090034\n",
       "17.0  0.060667  0.062743  0.214189  0.373121  0.105683\n",
       "19.0  0.060667  0.062743  0.214189  0.373121  0.105683\n",
       "20.0  0.060667  0.062743  0.214189  0.373121  0.105683\n",
       "22.0  0.092208  0.095362  0.325544  0.567102  0.160627\n",
       "23.0  0.157099  0.162473  0.554647  0.966201  0.273668\n",
       "25.0  0.157099  0.162473  0.554647  0.966201  0.273668\n",
       "32.0  0.157099  0.162473  0.554647  0.966201  0.273668\n",
       "34.0  0.157099  0.162473  0.554647  0.966201  0.273668\n",
       "35.0  0.157099  0.162473  0.554647  0.966201  0.273668"
      ]
     },
     "execution_count": 23,
     "metadata": {},
     "output_type": "execute_result"
    }
   ],
   "source": [
    "cph.predict_cumulative_hazard(lk[:5])"
   ]
  }
 ],
 "metadata": {
  "kernelspec": {
   "display_name": "Python 3",
   "language": "python",
   "name": "python3"
  },
  "language_info": {
   "codemirror_mode": {
    "name": "ipython",
    "version": 3
   },
   "file_extension": ".py",
   "mimetype": "text/x-python",
   "name": "python",
   "nbconvert_exporter": "python",
   "pygments_lexer": "ipython3",
   "version": "3.8.5"
  }
 },
 "nbformat": 4,
 "nbformat_minor": 4
}
